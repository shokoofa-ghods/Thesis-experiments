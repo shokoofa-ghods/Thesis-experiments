{
 "cells": [
  {
   "cell_type": "code",
   "execution_count": 121,
   "metadata": {},
   "outputs": [],
   "source": [
    "import glob \n",
    "import os\n",
    "import numpy as np\n",
    "import matplotlib.pyplot as plt\n",
    "import pydicom\n",
    "import cv2\n",
    "from scipy.signal import find_peaks\n",
    "import plotly.graph_objects as go\n",
    "import plotly.express as px\n",
    "import csv \n",
    "from PIL import Image\n",
    "import pandas as pd\n",
    "import shutil\n",
    "from sklearn.model_selection import train_test_split\n",
    "from collections import defaultdict"
   ]
  },
  {
   "cell_type": "code",
   "execution_count": 122,
   "metadata": {},
   "outputs": [],
   "source": [
    "original_address = '/scratch/student/shokoofa/new_dataset'"
   ]
  },
  {
   "cell_type": "code",
   "execution_count": 123,
   "metadata": {},
   "outputs": [],
   "source": [
    "df = pd.read_csv('labels.csv')"
   ]
  },
  {
   "cell_type": "code",
   "execution_count": 115,
   "metadata": {},
   "outputs": [
    {
     "data": {
      "text/html": [
       "<div>\n",
       "<style scoped>\n",
       "    .dataframe tbody tr th:only-of-type {\n",
       "        vertical-align: middle;\n",
       "    }\n",
       "\n",
       "    .dataframe tbody tr th {\n",
       "        vertical-align: top;\n",
       "    }\n",
       "\n",
       "    .dataframe thead th {\n",
       "        text-align: right;\n",
       "    }\n",
       "</style>\n",
       "<table border=\"1\" class=\"dataframe\">\n",
       "  <thead>\n",
       "    <tr style=\"text-align: right;\">\n",
       "      <th></th>\n",
       "      <th>label</th>\n",
       "      <th>combined</th>\n",
       "    </tr>\n",
       "  </thead>\n",
       "  <tbody>\n",
       "    <tr>\n",
       "      <th>0</th>\n",
       "      <td>Subcostal</td>\n",
       "      <td>_3wRyUbdSGmjEWULRVg-jw 3</td>\n",
       "    </tr>\n",
       "    <tr>\n",
       "      <th>1</th>\n",
       "      <td>Subcostal</td>\n",
       "      <td>_3wRyUbdSGmjEWULRVg-jw 4</td>\n",
       "    </tr>\n",
       "    <tr>\n",
       "      <th>2</th>\n",
       "      <td>Subcostal</td>\n",
       "      <td>_3wRyUbdSGmjEWULRVg-jw 5</td>\n",
       "    </tr>\n",
       "    <tr>\n",
       "      <th>3</th>\n",
       "      <td>Subcostal</td>\n",
       "      <td>_3wRyUbdSGmjEWULRVg-jw 7</td>\n",
       "    </tr>\n",
       "    <tr>\n",
       "      <th>4</th>\n",
       "      <td>Subcostal</td>\n",
       "      <td>_3wRyUbdSGmjEWULRVg-jw 9</td>\n",
       "    </tr>\n",
       "    <tr>\n",
       "      <th>...</th>\n",
       "      <td>...</td>\n",
       "      <td>...</td>\n",
       "    </tr>\n",
       "    <tr>\n",
       "      <th>3813</th>\n",
       "      <td>Subcostal</td>\n",
       "      <td>6VLObFIMTzq7fyUz9-ltQA 74</td>\n",
       "    </tr>\n",
       "    <tr>\n",
       "      <th>3814</th>\n",
       "      <td>Subcostal</td>\n",
       "      <td>6VLObFIMTzq7fyUz9-ltQA 75</td>\n",
       "    </tr>\n",
       "    <tr>\n",
       "      <th>3815</th>\n",
       "      <td>Subcostal</td>\n",
       "      <td>6VLObFIMTzq7fyUz9-ltQA 77</td>\n",
       "    </tr>\n",
       "    <tr>\n",
       "      <th>3816</th>\n",
       "      <td>Suprasternal</td>\n",
       "      <td>6VLObFIMTzq7fyUz9-ltQA 78</td>\n",
       "    </tr>\n",
       "    <tr>\n",
       "      <th>3817</th>\n",
       "      <td>Suprasternal</td>\n",
       "      <td>6VLObFIMTzq7fyUz9-ltQA 79</td>\n",
       "    </tr>\n",
       "  </tbody>\n",
       "</table>\n",
       "<p>3818 rows × 2 columns</p>\n",
       "</div>"
      ],
      "text/plain": [
       "             label                   combined\n",
       "0        Subcostal   _3wRyUbdSGmjEWULRVg-jw 3\n",
       "1        Subcostal   _3wRyUbdSGmjEWULRVg-jw 4\n",
       "2        Subcostal   _3wRyUbdSGmjEWULRVg-jw 5\n",
       "3        Subcostal   _3wRyUbdSGmjEWULRVg-jw 7\n",
       "4        Subcostal   _3wRyUbdSGmjEWULRVg-jw 9\n",
       "...            ...                        ...\n",
       "3813     Subcostal  6VLObFIMTzq7fyUz9-ltQA 74\n",
       "3814     Subcostal  6VLObFIMTzq7fyUz9-ltQA 75\n",
       "3815     Subcostal  6VLObFIMTzq7fyUz9-ltQA 77\n",
       "3816  Suprasternal  6VLObFIMTzq7fyUz9-ltQA 78\n",
       "3817  Suprasternal  6VLObFIMTzq7fyUz9-ltQA 79\n",
       "\n",
       "[3818 rows x 2 columns]"
      ]
     },
     "execution_count": 115,
     "metadata": {},
     "output_type": "execute_result"
    }
   ],
   "source": [
    "df"
   ]
  },
  {
   "cell_type": "code",
   "execution_count": 116,
   "metadata": {},
   "outputs": [
    {
     "data": {
      "text/plain": [
       "Apical-4ch      652\n",
       "PLAX            617\n",
       "Subcostal       580\n",
       "PSAX-ves        462\n",
       "Apical-3ch      337\n",
       "Apical-2ch      292\n",
       "Apical-5ch      211\n",
       "PSAX-mid        192\n",
       "PSAX-base       179\n",
       "Suprasternal    168\n",
       "PSAX-apical     128\n",
       "Name: label, dtype: int64"
      ]
     },
     "execution_count": 116,
     "metadata": {},
     "output_type": "execute_result"
    }
   ],
   "source": [
    "df['label'].value_counts()"
   ]
  },
  {
   "cell_type": "code",
   "execution_count": 117,
   "metadata": {},
   "outputs": [
    {
     "data": {
      "text/plain": [
       "0        [_3wRyUbdSGmjEWULRVg-jw, 3]\n",
       "1        [_3wRyUbdSGmjEWULRVg-jw, 4]\n",
       "2        [_3wRyUbdSGmjEWULRVg-jw, 5]\n",
       "3        [_3wRyUbdSGmjEWULRVg-jw, 7]\n",
       "4        [_3wRyUbdSGmjEWULRVg-jw, 9]\n",
       "                    ...             \n",
       "3813    [6VLObFIMTzq7fyUz9-ltQA, 74]\n",
       "3814    [6VLObFIMTzq7fyUz9-ltQA, 75]\n",
       "3815    [6VLObFIMTzq7fyUz9-ltQA, 77]\n",
       "3816    [6VLObFIMTzq7fyUz9-ltQA, 78]\n",
       "3817    [6VLObFIMTzq7fyUz9-ltQA, 79]\n",
       "Name: combined, Length: 3818, dtype: object"
      ]
     },
     "execution_count": 117,
     "metadata": {},
     "output_type": "execute_result"
    }
   ],
   "source": [
    "df.combined.astype(str).str.split(' ')"
   ]
  },
  {
   "cell_type": "code",
   "execution_count": 118,
   "metadata": {},
   "outputs": [],
   "source": [
    "df['patient'] = df['combined'].apply(lambda x : x.split(' ')[0])\n",
    "# df.combined.astype(str).str.split(' ')[0]"
   ]
  },
  {
   "cell_type": "code",
   "execution_count": 119,
   "metadata": {},
   "outputs": [
    {
     "data": {
      "text/plain": [
       "Apical-4ch      652\n",
       "PLAX            617\n",
       "Subcostal       580\n",
       "PSAX-ves        462\n",
       "Apical-3ch      337\n",
       "Apical-2ch      292\n",
       "Apical-5ch      211\n",
       "PSAX-mid        192\n",
       "PSAX-base       179\n",
       "Suprasternal    168\n",
       "PSAX-apical     128\n",
       "Name: label, dtype: int64"
      ]
     },
     "execution_count": 119,
     "metadata": {},
     "output_type": "execute_result"
    }
   ],
   "source": [
    "total_class_counts = df['label'].value_counts()\n",
    "total_class_counts"
   ]
  },
  {
   "cell_type": "code",
   "execution_count": null,
   "metadata": {},
   "outputs": [],
   "source": [
    "total_class_counts = df['label'].value_counts()\n",
    "\n",
    "# Initialize dictionaries to keep track of class distribution in each split\n",
    "train_class_counts = defaultdict(int)\n",
    "val_class_counts = defaultdict(int)\n",
    "test_class_counts = defaultdict(int)\n",
    "\n",
    "# Initialize lists to keep track of patients in each split\n",
    "train_patients = []\n",
    "val_patients = []\n",
    "test_patients = []\n",
    "\n",
    "# Shuffle patients for random assignment\n",
    "patients = df['patient'].unique()\n",
    "np.random.shuffle(patients)"
   ]
  },
  {
   "cell_type": "code",
   "execution_count": null,
   "metadata": {},
   "outputs": [],
   "source": [
    "# Function to check if a patient can be added to a split while respecting the constraints\n",
    "def can_add_patient(patient, split_class_counts, max_fraction):\n",
    "    patient_data = df[df['patient'] == patient]\n",
    "    patient_class_counts = patient_data['label'].value_counts()\n",
    "    \n",
    "    for label, count in patient_class_counts.items():\n",
    "        if split_class_counts[label] + count > (total_class_counts[label] * max_fraction):\n",
    "            return False\n",
    "    return True"
   ]
  },
  {
   "cell_type": "code",
   "execution_count": null,
   "metadata": {},
   "outputs": [],
   "source": [
    "for patient in patients:\n",
    "    if (len(train_patients) < 0.8 * len(patients)) and can_add_patient(patient, train_class_counts, 0.75):\n",
    "        train_patients.append(patient)\n",
    "        patient_data = df[df['patient'] == patient]\n",
    "        for label in patient_data['label']:\n",
    "            train_class_counts[label] += 1\n",
    "    elif (len(val_patients) < 0.1 * len(patients)) and can_add_patient(patient, val_class_counts, 0.15):\n",
    "        val_patients.append(patient)\n",
    "        patient_data = df[df['patient'] == patient]\n",
    "        for label in patient_data['label']:\n",
    "            val_class_counts[label] += 1\n",
    "    else:\n",
    "        test_patients.append(patient)\n",
    "        patient_data = df[df['patient'] == patient]\n",
    "        for label in patient_data['label']:\n",
    "            test_class_counts[label] += 1"
   ]
  },
  {
   "cell_type": "code",
   "execution_count": null,
   "metadata": {},
   "outputs": [],
   "source": [
    "def rebalance_sets(source_set, target_set, source_class_counts, target_class_counts, target_max_fraction):\n",
    "    patients_to_move = []\n",
    "    for patient in source_set:\n",
    "        if can_add_patient(patient, target_class_counts, target_max_fraction):\n",
    "            patients_to_move.append(patient)\n",
    "            patient_data = df[df['patient'] == patient]\n",
    "            for label in patient_data['label']:\n",
    "                target_class_counts[label] += 1\n",
    "                source_class_counts[label] -= 1\n",
    "    for patient in patients_to_move:\n",
    "        source_set.remove(patient)\n",
    "        target_set.append(patient)"
   ]
  },
  {
   "cell_type": "code",
   "execution_count": null,
   "metadata": {},
   "outputs": [],
   "source": [
    "rebalance_sets(test_patients, val_patients, test_class_counts, val_class_counts, 0.1)\n",
    "\n",
    "# Create the train, validation, and test DataFrames\n",
    "train_df = df[df['patient'].isin(train_patients)]\n",
    "val_df = df[df['patient'].isin(val_patients)]\n",
    "test_df = df[df['patient'].isin(test_patients)]\n",
    "\n",
    "# Verify the splits\n",
    "print(\"Train set class distribution:\")\n",
    "print(train_df['label'].value_counts(normalize=True))\n",
    "print(\"Validation set class distribution:\")\n",
    "print(val_df['label'].value_counts(normalize=True))\n",
    "print(\"Test set class distribution:\")\n",
    "print(test_df['label'].value_counts(normalize=True))\n",
    "\n",
    "# Plot the class distribution for each split\n",
    "train_dist = train_df['label'].value_counts().sort_index()\n",
    "val_dist = val_df['label'].value_counts().sort_index()\n",
    "test_dist = test_df['label'].value_counts().sort_index()"
   ]
  },
  {
   "cell_type": "code",
   "execution_count": 83,
   "metadata": {},
   "outputs": [
    {
     "name": "stdout",
     "output_type": "stream",
     "text": [
      "Train set class distribution:\n",
      "Apical-4ch      0.169163\n",
      "Subcostal       0.158933\n",
      "PLAX            0.153818\n",
      "PSAX-ves        0.121301\n",
      "Apical-3ch      0.088053\n",
      "Apical-2ch      0.078188\n",
      "Apical-5ch      0.053708\n",
      "PSAX-mid        0.050420\n",
      "PSAX-base       0.047863\n",
      "Suprasternal    0.044574\n",
      "PSAX-apical     0.033979\n",
      "Name: label, dtype: float64\n",
      "Validation set class distribution:\n",
      "Apical-4ch      0.183857\n",
      "PLAX            0.172646\n",
      "Subcostal       0.141256\n",
      "PSAX-ves        0.121076\n",
      "Apical-3ch      0.085202\n",
      "Apical-2ch      0.078475\n",
      "Apical-5ch      0.053812\n",
      "Suprasternal    0.049327\n",
      "PSAX-mid        0.042601\n",
      "PSAX-base       0.040359\n",
      "PSAX-apical     0.031390\n",
      "Name: label, dtype: float64\n",
      "Test set class distribution:\n",
      "PLAX            0.187402\n",
      "Apical-4ch      0.168504\n",
      "Subcostal       0.129134\n",
      "PSAX-ves        0.119685\n",
      "Apical-3ch      0.091339\n",
      "Apical-2ch      0.067717\n",
      "Apical-5ch      0.062992\n",
      "PSAX-mid        0.055118\n",
      "PSAX-base       0.047244\n",
      "Suprasternal    0.037795\n",
      "PSAX-apical     0.033071\n",
      "Name: label, dtype: float64\n"
     ]
    },
    {
     "data": {
      "image/png": "[encoded data removed]",
      "text/plain": [
       "<Figure size 1400x800 with 1 Axes>"
      ]
     },
     "metadata": {},
     "output_type": "display_data"
    }
   ],
   "source": [
    "width = 0.2  # the width of the bars\n",
    "fig, ax = plt.subplots(figsize=(14, 8))\n",
    "\n",
    "train_pos = np.arange(len(train_dist))\n",
    "val_pos = train_pos + width\n",
    "test_pos = train_pos + 2 * width\n",
    "\n",
    "ax.bar(train_pos, train_dist, width, label='Train')\n",
    "ax.bar(val_pos, val_dist, width, label='Validation')\n",
    "ax.bar(test_pos, test_dist, width, label='Test')\n",
    "\n",
    "ax.set_xlabel('Class Name')\n",
    "ax.set_ylabel('Frequency')\n",
    "ax.set_title('Distribution of Classes in Training and Validation Sets')\n",
    "ax.set_xticks(train_pos + width)\n",
    "ax.set_xticklabels(train_dist.index, rotation=45)\n",
    "ax.legend()\n",
    "\n",
    "plt.show()\n"
   ]
  },
  {
   "cell_type": "code",
   "execution_count": 92,
   "metadata": {},
   "outputs": [
    {
     "data": {
      "text/html": [
       "<div>\n",
       "<style scoped>\n",
       "    .dataframe tbody tr th:only-of-type {\n",
       "        vertical-align: middle;\n",
       "    }\n",
       "\n",
       "    .dataframe tbody tr th {\n",
       "        vertical-align: top;\n",
       "    }\n",
       "\n",
       "    .dataframe thead th {\n",
       "        text-align: right;\n",
       "    }\n",
       "</style>\n",
       "<table border=\"1\" class=\"dataframe\">\n",
       "  <thead>\n",
       "    <tr style=\"text-align: right;\">\n",
       "      <th></th>\n",
       "      <th>label</th>\n",
       "      <th>combined</th>\n",
       "      <th>patient</th>\n",
       "    </tr>\n",
       "  </thead>\n",
       "  <tbody>\n",
       "  </tbody>\n",
       "</table>\n",
       "</div>"
      ],
      "text/plain": [
       "Empty DataFrame\n",
       "Columns: [label, combined, patient]\n",
       "Index: []"
      ]
     },
     "execution_count": 92,
     "metadata": {},
     "output_type": "execute_result"
    }
   ],
   "source": [
    "train_df[train_df['patient'].isin(test_df['patient']) == True]\n",
    "val_df[val_df['patient'].isin(test_df['patient']) == True]\n",
    "test_df[test_df['patient'].isin(val_df['patient']) == True]\n",
    "test_df[test_df['patient'].isin(train_df['patient']) == True]"
   ]
  },
  {
   "cell_type": "code",
   "execution_count": 98,
   "metadata": {},
   "outputs": [],
   "source": [
    "assert len(set(train_patients).intersection(set(val_patients))) == 0\n",
    "assert len(set(train_patients).intersection(set(test_patients))) == 0\n",
    "assert len(set(val_patients).intersection(set(test_patients))) == 0"
   ]
  },
  {
   "cell_type": "code",
   "execution_count": 99,
   "metadata": {},
   "outputs": [],
   "source": [
    "source_dir = original_address\n",
    "train_dir = original_address + '/Train'\n",
    "val_dir = original_address + '/Val'\n",
    "test_dir = original_address + '/Test'\n",
    "\n",
    "os.makedirs(train_dir, exist_ok=True)\n",
    "os.makedirs(val_dir, exist_ok=True)\n",
    "os.makedirs(test_dir, exist_ok=True)"
   ]
  },
  {
   "cell_type": "code",
   "execution_count": 101,
   "metadata": {},
   "outputs": [],
   "source": [
    "def move_patient_folders(patient_list, destination_dir):\n",
    "    for patient in patient_list:\n",
    "        src_path = os.path.join(source_dir, patient)\n",
    "        dest_path = os.path.join(destination_dir, patient)\n",
    "        if os.path.exists(src_path):\n",
    "            shutil.move(src_path, dest_path)"
   ]
  },
  {
   "cell_type": "code",
   "execution_count": 102,
   "metadata": {},
   "outputs": [],
   "source": [
    "move_patient_folders(train_patients, train_dir)\n",
    "move_patient_folders(val_patients, val_dir)\n",
    "move_patient_folders(test_patients, test_dir)"
   ]
  },
  {
   "cell_type": "code",
   "execution_count": 105,
   "metadata": {},
   "outputs": [
    {
     "name": "stderr",
     "output_type": "stream",
     "text": [
      "/tmp/ipykernel_145654/4010093788.py:1: SettingWithCopyWarning: \n",
      "A value is trying to be set on a copy of a slice from a DataFrame.\n",
      "Try using .loc[row_indexer,col_indexer] = value instead\n",
      "\n",
      "See the caveats in the documentation: https://pandas.pydata.org/pandas-docs/stable/user_guide/indexing.html#returning-a-view-versus-a-copy\n",
      "  train_df['path'] = train_df['combined'].apply(lambda x : 'Train/' + ('/'.join(x.split(' '))))\n",
      "/tmp/ipykernel_145654/4010093788.py:2: SettingWithCopyWarning: \n",
      "A value is trying to be set on a copy of a slice from a DataFrame.\n",
      "Try using .loc[row_indexer,col_indexer] = value instead\n",
      "\n",
      "See the caveats in the documentation: https://pandas.pydata.org/pandas-docs/stable/user_guide/indexing.html#returning-a-view-versus-a-copy\n",
      "  val_df['path'] = val_df['combined'].apply(lambda x : 'Valid/' + ('/'.join(x.split(' '))))\n",
      "/tmp/ipykernel_145654/4010093788.py:3: SettingWithCopyWarning: \n",
      "A value is trying to be set on a copy of a slice from a DataFrame.\n",
      "Try using .loc[row_indexer,col_indexer] = value instead\n",
      "\n",
      "See the caveats in the documentation: https://pandas.pydata.org/pandas-docs/stable/user_guide/indexing.html#returning-a-view-versus-a-copy\n",
      "  test_df['path'] = test_df['combined'].apply(lambda x : 'Test/' + ('/'.join(x.split(' '))))\n"
     ]
    }
   ],
   "source": [
    "train_df['path'] = train_df['combined'].apply(lambda x : 'Train/' + ('/'.join(x.split(' '))))\n",
    "val_df['path'] = val_df['combined'].apply(lambda x : 'Valid/' + ('/'.join(x.split(' '))))\n",
    "test_df['path'] = test_df['combined'].apply(lambda x : 'Test/' + ('/'.join(x.split(' '))))"
   ]
  },
  {
   "cell_type": "code",
   "execution_count": 109,
   "metadata": {},
   "outputs": [
    {
     "name": "stderr",
     "output_type": "stream",
     "text": [
      "/tmp/ipykernel_145654/3268898502.py:2: SettingWithCopyWarning: \n",
      "A value is trying to be set on a copy of a slice from a DataFrame\n",
      "\n",
      "See the caveats in the documentation: https://pandas.pydata.org/pandas-docs/stable/user_guide/indexing.html#returning-a-view-versus-a-copy\n",
      "  val_df.drop(['combined', 'patient'], axis= 1, inplace=True)\n",
      "/tmp/ipykernel_145654/3268898502.py:3: SettingWithCopyWarning: \n",
      "A value is trying to be set on a copy of a slice from a DataFrame\n",
      "\n",
      "See the caveats in the documentation: https://pandas.pydata.org/pandas-docs/stable/user_guide/indexing.html#returning-a-view-versus-a-copy\n",
      "  test_df.drop(['combined', 'patient'], axis= 1, inplace=True)\n"
     ]
    }
   ],
   "source": [
    "train_df.drop(['combined', 'patient'], axis= 1, inplace=True)\n",
    "val_df.drop(['combined', 'patient'], axis= 1, inplace=True)\n",
    "test_df.drop(['combined', 'patient'], axis= 1, inplace=True)"
   ]
  },
  {
   "cell_type": "code",
   "execution_count": 111,
   "metadata": {},
   "outputs": [],
   "source": [
    "train_df.to_csv('train_labels_original.csv', index=False)\n",
    "val_df.to_csv('val_labels_original.csv', index=False)\n",
    "test_df.to_csv('test_labels_original.csv', index=False)"
   ]
  },
  {
   "cell_type": "code",
   "execution_count": null,
   "metadata": {},
   "outputs": [],
   "source": []
  },
  {
   "cell_type": "code",
   "execution_count": 30,
   "metadata": {},
   "outputs": [],
   "source": [
    "patients = df.patient.unique()"
   ]
  },
  {
   "cell_type": "code",
   "execution_count": 32,
   "metadata": {},
   "outputs": [
    {
     "data": {
      "text/html": [
       "<div>\n",
       "<style scoped>\n",
       "    .dataframe tbody tr th:only-of-type {\n",
       "        vertical-align: middle;\n",
       "    }\n",
       "\n",
       "    .dataframe tbody tr th {\n",
       "        vertical-align: top;\n",
       "    }\n",
       "\n",
       "    .dataframe thead th {\n",
       "        text-align: right;\n",
       "    }\n",
       "</style>\n",
       "<table border=\"1\" class=\"dataframe\">\n",
       "  <thead>\n",
       "    <tr style=\"text-align: right;\">\n",
       "      <th></th>\n",
       "      <th>Apical-2ch</th>\n",
       "      <th>Apical-3ch</th>\n",
       "      <th>Apical-4ch</th>\n",
       "      <th>Apical-5ch</th>\n",
       "      <th>PLAX</th>\n",
       "      <th>PSAX-apical</th>\n",
       "      <th>PSAX-base</th>\n",
       "      <th>PSAX-mid</th>\n",
       "      <th>PSAX-ves</th>\n",
       "      <th>Subcostal</th>\n",
       "      <th>Suprasternal</th>\n",
       "    </tr>\n",
       "    <tr>\n",
       "      <th>patient</th>\n",
       "      <th></th>\n",
       "      <th></th>\n",
       "      <th></th>\n",
       "      <th></th>\n",
       "      <th></th>\n",
       "      <th></th>\n",
       "      <th></th>\n",
       "      <th></th>\n",
       "      <th></th>\n",
       "      <th></th>\n",
       "      <th></th>\n",
       "    </tr>\n",
       "  </thead>\n",
       "  <tbody>\n",
       "    <tr>\n",
       "      <th>-40uXj7VSHK4KVuHfAjiYQ</th>\n",
       "      <td>0.072727</td>\n",
       "      <td>0.072727</td>\n",
       "      <td>0.163636</td>\n",
       "      <td>0.036364</td>\n",
       "      <td>0.109091</td>\n",
       "      <td>0.036364</td>\n",
       "      <td>0.036364</td>\n",
       "      <td>0.054545</td>\n",
       "      <td>0.272727</td>\n",
       "      <td>0.036364</td>\n",
       "      <td>0.109091</td>\n",
       "    </tr>\n",
       "    <tr>\n",
       "      <th>-70W4j7aSF2wLzcVrXL4AA</th>\n",
       "      <td>0.068182</td>\n",
       "      <td>0.068182</td>\n",
       "      <td>0.204545</td>\n",
       "      <td>0.045455</td>\n",
       "      <td>0.136364</td>\n",
       "      <td>0.045455</td>\n",
       "      <td>0.045455</td>\n",
       "      <td>0.068182</td>\n",
       "      <td>0.136364</td>\n",
       "      <td>0.159091</td>\n",
       "      <td>0.022727</td>\n",
       "    </tr>\n",
       "    <tr>\n",
       "      <th>-8UKHE9bQ0u09nleXrwgBg</th>\n",
       "      <td>0.076923</td>\n",
       "      <td>0.128205</td>\n",
       "      <td>0.205128</td>\n",
       "      <td>0.076923</td>\n",
       "      <td>0.076923</td>\n",
       "      <td>0.025641</td>\n",
       "      <td>0.076923</td>\n",
       "      <td>0.076923</td>\n",
       "      <td>0.102564</td>\n",
       "      <td>0.102564</td>\n",
       "      <td>0.051282</td>\n",
       "    </tr>\n",
       "    <tr>\n",
       "      <th>-HQr6nOJRs6eFWVbflK-Mw</th>\n",
       "      <td>0.032258</td>\n",
       "      <td>0.096774</td>\n",
       "      <td>0.161290</td>\n",
       "      <td>0.032258</td>\n",
       "      <td>0.193548</td>\n",
       "      <td>0.032258</td>\n",
       "      <td>0.032258</td>\n",
       "      <td>0.064516</td>\n",
       "      <td>0.129032</td>\n",
       "      <td>0.193548</td>\n",
       "      <td>0.032258</td>\n",
       "    </tr>\n",
       "    <tr>\n",
       "      <th>-Lfio4cmRuiiQ2TgfNKtAg</th>\n",
       "      <td>0.025641</td>\n",
       "      <td>0.051282</td>\n",
       "      <td>0.205128</td>\n",
       "      <td>0.051282</td>\n",
       "      <td>0.256410</td>\n",
       "      <td>0.000000</td>\n",
       "      <td>0.025641</td>\n",
       "      <td>0.102564</td>\n",
       "      <td>0.076923</td>\n",
       "      <td>0.179487</td>\n",
       "      <td>0.025641</td>\n",
       "    </tr>\n",
       "    <tr>\n",
       "      <th>...</th>\n",
       "      <td>...</td>\n",
       "      <td>...</td>\n",
       "      <td>...</td>\n",
       "      <td>...</td>\n",
       "      <td>...</td>\n",
       "      <td>...</td>\n",
       "      <td>...</td>\n",
       "      <td>...</td>\n",
       "      <td>...</td>\n",
       "      <td>...</td>\n",
       "      <td>...</td>\n",
       "    </tr>\n",
       "    <tr>\n",
       "      <th>_XncWt7jRQuRDC-zj9V8Cg</th>\n",
       "      <td>0.106383</td>\n",
       "      <td>0.000000</td>\n",
       "      <td>0.255319</td>\n",
       "      <td>0.042553</td>\n",
       "      <td>0.255319</td>\n",
       "      <td>0.021277</td>\n",
       "      <td>0.042553</td>\n",
       "      <td>0.021277</td>\n",
       "      <td>0.127660</td>\n",
       "      <td>0.106383</td>\n",
       "      <td>0.021277</td>\n",
       "    </tr>\n",
       "    <tr>\n",
       "      <th>_fpOPq7mSyKI-q7AIVddew</th>\n",
       "      <td>0.117647</td>\n",
       "      <td>0.078431</td>\n",
       "      <td>0.196078</td>\n",
       "      <td>0.078431</td>\n",
       "      <td>0.117647</td>\n",
       "      <td>0.019608</td>\n",
       "      <td>0.019608</td>\n",
       "      <td>0.078431</td>\n",
       "      <td>0.137255</td>\n",
       "      <td>0.039216</td>\n",
       "      <td>0.117647</td>\n",
       "    </tr>\n",
       "    <tr>\n",
       "      <th>_kXOP1MSTci8eNMele9Atw</th>\n",
       "      <td>0.068966</td>\n",
       "      <td>0.068966</td>\n",
       "      <td>0.137931</td>\n",
       "      <td>0.068966</td>\n",
       "      <td>0.206897</td>\n",
       "      <td>0.034483</td>\n",
       "      <td>0.034483</td>\n",
       "      <td>0.034483</td>\n",
       "      <td>0.137931</td>\n",
       "      <td>0.137931</td>\n",
       "      <td>0.068966</td>\n",
       "    </tr>\n",
       "    <tr>\n",
       "      <th>_sGIp1RTSrGCz_CBPrfU3g</th>\n",
       "      <td>0.042553</td>\n",
       "      <td>0.085106</td>\n",
       "      <td>0.127660</td>\n",
       "      <td>0.042553</td>\n",
       "      <td>0.106383</td>\n",
       "      <td>0.042553</td>\n",
       "      <td>0.021277</td>\n",
       "      <td>0.021277</td>\n",
       "      <td>0.148936</td>\n",
       "      <td>0.297872</td>\n",
       "      <td>0.063830</td>\n",
       "    </tr>\n",
       "    <tr>\n",
       "      <th>_wlw5E-pSJOQB_wb-vCVEA</th>\n",
       "      <td>0.093023</td>\n",
       "      <td>0.093023</td>\n",
       "      <td>0.186047</td>\n",
       "      <td>0.069767</td>\n",
       "      <td>0.116279</td>\n",
       "      <td>0.023256</td>\n",
       "      <td>0.046512</td>\n",
       "      <td>0.046512</td>\n",
       "      <td>0.162791</td>\n",
       "      <td>0.139535</td>\n",
       "      <td>0.023256</td>\n",
       "    </tr>\n",
       "  </tbody>\n",
       "</table>\n",
       "<p>98 rows × 11 columns</p>\n",
       "</div>"
      ],
      "text/plain": [
       "                        Apical-2ch  Apical-3ch  Apical-4ch  Apical-5ch  \\\n",
       "patient                                                                  \n",
       "-40uXj7VSHK4KVuHfAjiYQ    0.072727    0.072727    0.163636    0.036364   \n",
       "-70W4j7aSF2wLzcVrXL4AA    0.068182    0.068182    0.204545    0.045455   \n",
       "-8UKHE9bQ0u09nleXrwgBg    0.076923    0.128205    0.205128    0.076923   \n",
       "-HQr6nOJRs6eFWVbflK-Mw    0.032258    0.096774    0.161290    0.032258   \n",
       "-Lfio4cmRuiiQ2TgfNKtAg    0.025641    0.051282    0.205128    0.051282   \n",
       "...                            ...         ...         ...         ...   \n",
       "_XncWt7jRQuRDC-zj9V8Cg    0.106383    0.000000    0.255319    0.042553   \n",
       "_fpOPq7mSyKI-q7AIVddew    0.117647    0.078431    0.196078    0.078431   \n",
       "_kXOP1MSTci8eNMele9Atw    0.068966    0.068966    0.137931    0.068966   \n",
       "_sGIp1RTSrGCz_CBPrfU3g    0.042553    0.085106    0.127660    0.042553   \n",
       "_wlw5E-pSJOQB_wb-vCVEA    0.093023    0.093023    0.186047    0.069767   \n",
       "\n",
       "                            PLAX  PSAX-apical  PSAX-base  PSAX-mid  PSAX-ves  \\\n",
       "patient                                                                        \n",
       "-40uXj7VSHK4KVuHfAjiYQ  0.109091     0.036364   0.036364  0.054545  0.272727   \n",
       "-70W4j7aSF2wLzcVrXL4AA  0.136364     0.045455   0.045455  0.068182  0.136364   \n",
       "-8UKHE9bQ0u09nleXrwgBg  0.076923     0.025641   0.076923  0.076923  0.102564   \n",
       "-HQr6nOJRs6eFWVbflK-Mw  0.193548     0.032258   0.032258  0.064516  0.129032   \n",
       "-Lfio4cmRuiiQ2TgfNKtAg  0.256410     0.000000   0.025641  0.102564  0.076923   \n",
       "...                          ...          ...        ...       ...       ...   \n",
       "_XncWt7jRQuRDC-zj9V8Cg  0.255319     0.021277   0.042553  0.021277  0.127660   \n",
       "_fpOPq7mSyKI-q7AIVddew  0.117647     0.019608   0.019608  0.078431  0.137255   \n",
       "_kXOP1MSTci8eNMele9Atw  0.206897     0.034483   0.034483  0.034483  0.137931   \n",
       "_sGIp1RTSrGCz_CBPrfU3g  0.106383     0.042553   0.021277  0.021277  0.148936   \n",
       "_wlw5E-pSJOQB_wb-vCVEA  0.116279     0.023256   0.046512  0.046512  0.162791   \n",
       "\n",
       "                        Subcostal  Suprasternal  \n",
       "patient                                          \n",
       "-40uXj7VSHK4KVuHfAjiYQ   0.036364      0.109091  \n",
       "-70W4j7aSF2wLzcVrXL4AA   0.159091      0.022727  \n",
       "-8UKHE9bQ0u09nleXrwgBg   0.102564      0.051282  \n",
       "-HQr6nOJRs6eFWVbflK-Mw   0.193548      0.032258  \n",
       "-Lfio4cmRuiiQ2TgfNKtAg   0.179487      0.025641  \n",
       "...                           ...           ...  \n",
       "_XncWt7jRQuRDC-zj9V8Cg   0.106383      0.021277  \n",
       "_fpOPq7mSyKI-q7AIVddew   0.039216      0.117647  \n",
       "_kXOP1MSTci8eNMele9Atw   0.137931      0.068966  \n",
       "_sGIp1RTSrGCz_CBPrfU3g   0.297872      0.063830  \n",
       "_wlw5E-pSJOQB_wb-vCVEA   0.139535      0.023256  \n",
       "\n",
       "[98 rows x 11 columns]"
      ]
     },
     "execution_count": 32,
     "metadata": {},
     "output_type": "execute_result"
    }
   ],
   "source": [
    "patient_class_distribution = df.groupby('patient')['label'].apply(lambda x: x.value_counts(normalize= True)).unstack(fill_value=0)\n",
    "patient_class_distribution"
   ]
  },
  {
   "cell_type": "code",
   "execution_count": 33,
   "metadata": {},
   "outputs": [
    {
     "ename": "ValueError",
     "evalue": "The least populated class in y has only 1 member, which is too few. The minimum number of groups for any class cannot be less than 2.",
     "output_type": "error",
     "traceback": [
      "\u001b[0;31m---------------------------------------------------------------------------\u001b[0m",
      "\u001b[0;31mValueError\u001b[0m                                Traceback (most recent call last)",
      "\u001b[0;32m/tmp/ipykernel_145654/3112518468.py\u001b[0m in \u001b[0;36m<module>\u001b[0;34m\u001b[0m\n\u001b[0;32m----> 1\u001b[0;31m train_patients, temp_patients = train_test_split(\n\u001b[0m\u001b[1;32m      2\u001b[0m     \u001b[0mpatients\u001b[0m\u001b[0;34m,\u001b[0m\u001b[0;34m\u001b[0m\u001b[0;34m\u001b[0m\u001b[0m\n\u001b[1;32m      3\u001b[0m     \u001b[0mtest_size\u001b[0m\u001b[0;34m=\u001b[0m\u001b[0;36m0.2\u001b[0m\u001b[0;34m,\u001b[0m\u001b[0;34m\u001b[0m\u001b[0;34m\u001b[0m\u001b[0m\n\u001b[1;32m      4\u001b[0m     \u001b[0mstratify\u001b[0m\u001b[0;34m=\u001b[0m\u001b[0mpatient_class_distribution\u001b[0m\u001b[0;34m,\u001b[0m\u001b[0;34m\u001b[0m\u001b[0;34m\u001b[0m\u001b[0m\n\u001b[1;32m      5\u001b[0m     \u001b[0mrandom_state\u001b[0m\u001b[0;34m=\u001b[0m\u001b[0;36m42\u001b[0m\u001b[0;34m\u001b[0m\u001b[0;34m\u001b[0m\u001b[0m\n",
      "\u001b[0;32m~/anaconda3/lib/python3.9/site-packages/sklearn/model_selection/_split.py\u001b[0m in \u001b[0;36mtrain_test_split\u001b[0;34m(test_size, train_size, random_state, shuffle, stratify, *arrays)\u001b[0m\n\u001b[1;32m   2439\u001b[0m         \u001b[0mcv\u001b[0m \u001b[0;34m=\u001b[0m \u001b[0mCVClass\u001b[0m\u001b[0;34m(\u001b[0m\u001b[0mtest_size\u001b[0m\u001b[0;34m=\u001b[0m\u001b[0mn_test\u001b[0m\u001b[0;34m,\u001b[0m \u001b[0mtrain_size\u001b[0m\u001b[0;34m=\u001b[0m\u001b[0mn_train\u001b[0m\u001b[0;34m,\u001b[0m \u001b[0mrandom_state\u001b[0m\u001b[0;34m=\u001b[0m\u001b[0mrandom_state\u001b[0m\u001b[0;34m)\u001b[0m\u001b[0;34m\u001b[0m\u001b[0;34m\u001b[0m\u001b[0m\n\u001b[1;32m   2440\u001b[0m \u001b[0;34m\u001b[0m\u001b[0m\n\u001b[0;32m-> 2441\u001b[0;31m         \u001b[0mtrain\u001b[0m\u001b[0;34m,\u001b[0m \u001b[0mtest\u001b[0m \u001b[0;34m=\u001b[0m \u001b[0mnext\u001b[0m\u001b[0;34m(\u001b[0m\u001b[0mcv\u001b[0m\u001b[0;34m.\u001b[0m\u001b[0msplit\u001b[0m\u001b[0;34m(\u001b[0m\u001b[0mX\u001b[0m\u001b[0;34m=\u001b[0m\u001b[0marrays\u001b[0m\u001b[0;34m[\u001b[0m\u001b[0;36m0\u001b[0m\u001b[0;34m]\u001b[0m\u001b[0;34m,\u001b[0m \u001b[0my\u001b[0m\u001b[0;34m=\u001b[0m\u001b[0mstratify\u001b[0m\u001b[0;34m)\u001b[0m\u001b[0;34m)\u001b[0m\u001b[0;34m\u001b[0m\u001b[0;34m\u001b[0m\u001b[0m\n\u001b[0m\u001b[1;32m   2442\u001b[0m \u001b[0;34m\u001b[0m\u001b[0m\n\u001b[1;32m   2443\u001b[0m     return list(\n",
      "\u001b[0;32m~/anaconda3/lib/python3.9/site-packages/sklearn/model_selection/_split.py\u001b[0m in \u001b[0;36msplit\u001b[0;34m(self, X, y, groups)\u001b[0m\n\u001b[1;32m   1598\u001b[0m         \"\"\"\n\u001b[1;32m   1599\u001b[0m         \u001b[0mX\u001b[0m\u001b[0;34m,\u001b[0m \u001b[0my\u001b[0m\u001b[0;34m,\u001b[0m \u001b[0mgroups\u001b[0m \u001b[0;34m=\u001b[0m \u001b[0mindexable\u001b[0m\u001b[0;34m(\u001b[0m\u001b[0mX\u001b[0m\u001b[0;34m,\u001b[0m \u001b[0my\u001b[0m\u001b[0;34m,\u001b[0m \u001b[0mgroups\u001b[0m\u001b[0;34m)\u001b[0m\u001b[0;34m\u001b[0m\u001b[0;34m\u001b[0m\u001b[0m\n\u001b[0;32m-> 1600\u001b[0;31m         \u001b[0;32mfor\u001b[0m \u001b[0mtrain\u001b[0m\u001b[0;34m,\u001b[0m \u001b[0mtest\u001b[0m \u001b[0;32min\u001b[0m \u001b[0mself\u001b[0m\u001b[0;34m.\u001b[0m\u001b[0m_iter_indices\u001b[0m\u001b[0;34m(\u001b[0m\u001b[0mX\u001b[0m\u001b[0;34m,\u001b[0m \u001b[0my\u001b[0m\u001b[0;34m,\u001b[0m \u001b[0mgroups\u001b[0m\u001b[0;34m)\u001b[0m\u001b[0;34m:\u001b[0m\u001b[0;34m\u001b[0m\u001b[0;34m\u001b[0m\u001b[0m\n\u001b[0m\u001b[1;32m   1601\u001b[0m             \u001b[0;32myield\u001b[0m \u001b[0mtrain\u001b[0m\u001b[0;34m,\u001b[0m \u001b[0mtest\u001b[0m\u001b[0;34m\u001b[0m\u001b[0;34m\u001b[0m\u001b[0m\n\u001b[1;32m   1602\u001b[0m \u001b[0;34m\u001b[0m\u001b[0m\n",
      "\u001b[0;32m~/anaconda3/lib/python3.9/site-packages/sklearn/model_selection/_split.py\u001b[0m in \u001b[0;36m_iter_indices\u001b[0;34m(self, X, y, groups)\u001b[0m\n\u001b[1;32m   1938\u001b[0m         \u001b[0mclass_counts\u001b[0m \u001b[0;34m=\u001b[0m \u001b[0mnp\u001b[0m\u001b[0;34m.\u001b[0m\u001b[0mbincount\u001b[0m\u001b[0;34m(\u001b[0m\u001b[0my_indices\u001b[0m\u001b[0;34m)\u001b[0m\u001b[0;34m\u001b[0m\u001b[0;34m\u001b[0m\u001b[0m\n\u001b[1;32m   1939\u001b[0m         \u001b[0;32mif\u001b[0m \u001b[0mnp\u001b[0m\u001b[0;34m.\u001b[0m\u001b[0mmin\u001b[0m\u001b[0;34m(\u001b[0m\u001b[0mclass_counts\u001b[0m\u001b[0;34m)\u001b[0m \u001b[0;34m<\u001b[0m \u001b[0;36m2\u001b[0m\u001b[0;34m:\u001b[0m\u001b[0;34m\u001b[0m\u001b[0;34m\u001b[0m\u001b[0m\n\u001b[0;32m-> 1940\u001b[0;31m             raise ValueError(\n\u001b[0m\u001b[1;32m   1941\u001b[0m                 \u001b[0;34m\"The least populated class in y has only 1\"\u001b[0m\u001b[0;34m\u001b[0m\u001b[0;34m\u001b[0m\u001b[0m\n\u001b[1;32m   1942\u001b[0m                 \u001b[0;34m\" member, which is too few. The minimum\"\u001b[0m\u001b[0;34m\u001b[0m\u001b[0;34m\u001b[0m\u001b[0m\n",
      "\u001b[0;31mValueError\u001b[0m: The least populated class in y has only 1 member, which is too few. The minimum number of groups for any class cannot be less than 2."
     ]
    }
   ],
   "source": [
    "train_patients, temp_patients = train_test_split(\n",
    "    patients, \n",
    "    test_size=0.2, \n",
    "    stratify=patient_class_distribution, \n",
    "    random_state=42\n",
    ")"
   ]
  },
  {
   "cell_type": "code",
   "execution_count": null,
   "metadata": {},
   "outputs": [],
   "source": [
    "val_patients, test_patients = train_test_split(\n",
    "    temp_patients, \n",
    "    test_size=0.5, \n",
    "    stratify=patient_class_distribution.loc[temp_patients], \n",
    "    random_state=42\n",
    ")"
   ]
  },
  {
   "cell_type": "code",
   "execution_count": null,
   "metadata": {},
   "outputs": [],
   "source": [
    "train_df = df[df['patient'].isin(train_patients)]\n",
    "val_df = df[df['patient'].isin(val_patients)]\n",
    "test_df = df[df['patient'].isin(test_patients)]"
   ]
  }
 ],
 "metadata": {
  "kernelspec": {
   "display_name": "base",
   "language": "python",
   "name": "python3"
  },
  "language_info": {
   "codemirror_mode": {
    "name": "ipython",
    "version": 3
   },
   "file_extension": ".py",
   "mimetype": "text/x-python",
   "name": "python",
   "nbconvert_exporter": "python",
   "pygments_lexer": "ipython3",
   "version": "3.9.13"
  }
 },
 "nbformat": 4,
 "nbformat_minor": 2
}
