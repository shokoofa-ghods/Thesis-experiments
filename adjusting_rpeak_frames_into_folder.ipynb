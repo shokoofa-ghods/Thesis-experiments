{
 "cells": [
  {
   "cell_type": "code",
   "execution_count": 1,
   "metadata": {},
   "outputs": [],
   "source": [
    "import os\n",
    "from os import listdir\n",
    "from os.path import join, isfile\n",
    "from PIL import Image\n",
    "\n",
    "import numpy as np\n",
    "import pandas as pd\n",
    "# import tensorflow as tf\n",
    "import matplotlib.pyplot as plt\n",
    "import cv2\n",
    "\n",
    "import torch\n",
    "import torchvision\n",
    "import torch.nn.functional as F\n",
    "from torch import nn, optim\n",
    "from efficientnet_pytorch import EfficientNet\n",
    "from torchvision.transforms import transforms\n",
    "from torch.utils.data import random_split\n",
    "import glob\n",
    "import shutil"
   ]
  },
  {
   "cell_type": "code",
   "execution_count": 7,
   "metadata": {},
   "outputs": [
    {
     "data": {
      "text/plain": [
       "100"
      ]
     },
     "execution_count": 7,
     "metadata": {},
     "output_type": "execute_result"
    }
   ],
   "source": [
    "original_address = '/scratch/student/shokoofa/'\n",
    "paths = glob.glob(os.path.join(original_address + '/dataset/', '*')) #numebr of all samples per patients\n",
    "len(paths)"
   ]
  },
  {
   "cell_type": "code",
   "execution_count": 8,
   "metadata": {},
   "outputs": [
    {
     "data": {
      "text/plain": [
       "'/scratch/student/shokoofa//dataset/1kaoHWRbQ_OPO4GsHJpY5A'"
      ]
     },
     "execution_count": 8,
     "metadata": {},
     "output_type": "execute_result"
    }
   ],
   "source": [
    "paths[1]"
   ]
  },
  {
   "cell_type": "markdown",
   "metadata": {},
   "source": [
    "## removing samples to the corresponding folder"
   ]
  },
  {
   "cell_type": "code",
   "execution_count": 19,
   "metadata": {},
   "outputs": [],
   "source": [
    "for path in paths:\n",
    "    samples = []\n",
    "    new_path = path.replace('//', '/')\n",
    "    samples= glob.glob(os.path.join(new_path, '*'))\n",
    "    for sample in samples:\n",
    "        sample_name = '/'.join(sample.split('/')[:-1])\n",
    "        folder_name = sample.split('/')[-1].split('_')[0] + '/'\n",
    "        new_folder = os.path.join(sample_name + '/', folder_name)\n",
    "        os.makedirs( new_folder, exist_ok=True)\n",
    "        shutil.move(sample, new_folder )"
   ]
  },
  {
   "cell_type": "code",
   "execution_count": 26,
   "metadata": {},
   "outputs": [],
   "source": [
    "lbl = pd.read_csv('labels (1).csv')\n",
    "n_lbl = pd.read_csv('lbl_nolbls.csv')\n",
    "n_lbl['label'] = None"
   ]
  },
  {
   "cell_type": "code",
   "execution_count": 27,
   "metadata": {},
   "outputs": [],
   "source": [
    "combined_to_label = dict(zip(lbl['combined'], lbl['label']))"
   ]
  },
  {
   "cell_type": "code",
   "execution_count": 30,
   "metadata": {},
   "outputs": [],
   "source": [
    "for i, sample in enumerate(n_lbl['sample_path']):\n",
    "    if str(sample) in combined_to_label.keys():\n",
    "        n_lbl.at[i, 'label'] = combined_to_label[sample]"
   ]
  },
  {
   "cell_type": "code",
   "execution_count": 34,
   "metadata": {},
   "outputs": [],
   "source": [
    "n_lbl.to_csv('new_labels1.csv', index= False, encoding='utf-8')"
   ]
  }
 ],
 "metadata": {
  "kernelspec": {
   "display_name": "base",
   "language": "python",
   "name": "python3"
  },
  "language_info": {
   "codemirror_mode": {
    "name": "ipython",
    "version": 3
   },
   "file_extension": ".py",
   "mimetype": "text/x-python",
   "name": "python",
   "nbconvert_exporter": "python",
   "pygments_lexer": "ipython3",
   "version": "3.9.13"
  }
 },
 "nbformat": 4,
 "nbformat_minor": 2
}
